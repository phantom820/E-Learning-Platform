{
 "cells": [
  {
   "cell_type": "code",
   "execution_count": 1,
   "id": "15dd358c",
   "metadata": {},
   "outputs": [],
   "source": [
    "import numpy as np\n",
    "import pandas as pd\n",
    "import glob\n",
    "import re"
   ]
  },
  {
   "cell_type": "markdown",
   "id": "9dbfa791",
   "metadata": {},
   "source": [
    "### South Africa Schools Data"
   ]
  },
  {
   "cell_type": "code",
   "execution_count": 2,
   "id": "5112de16",
   "metadata": {},
   "outputs": [],
   "source": [
    "def load_data(path):\n",
    "    dfs = []\n",
    "    fnames = glob.glob(path)\n",
    "    for fname in fnames:\n",
    "        df = pd.read_excel(fname)\n",
    "        dfs.append(df)\n",
    "    return dfs"
   ]
  },
  {
   "cell_type": "markdown",
   "id": "e8c59b3e",
   "metadata": {},
   "source": [
    "### Columns of Interest"
   ]
  },
  {
   "cell_type": "markdown",
   "id": "27921f6a",
   "metadata": {},
   "source": [
    "| Column Name | Description | Values |\n",
    "| --- | --- | --- |\n",
    "NatEmis | School unique Id|\n",
    "|Institution_Name|School Name| |\n",
    "| Status | Indicates whether school  operational or not. | {OPERATIONAL', 'PENDING CLOSURE', 'PENDING OPEN', 'PENDING '} |\n",
    "| Sector | Whether private or public school | PUBLIC,INDEPENDENT |\n",
    "|Type_PED | Whether ordinary school, techmolohy centre, prison, ... |{'ORDINARY SCHOOL' ,'MUSIC CENTRE' ,'EDUCATION TECHNOLOGY CENTRE',,'PRE-PRIMARY SCHOOL' ,'PRISON SCHOOL' ,'SPECIAL NEEDS EDUCATION CENTRE'}|\n",
    "|Phase_PED| Is it a primary school, middle school, ... | {'99' ,'COMBINED SCHOOL' ,'HOSPITAL SCHOOL' ,'INTERMEDIATE SCHOOL','PRE-PRIMARY SCHOOL' ,'PRIMARY SCHOOL' ,'SCHOOL OF SKILLS',,'SECONDARY SCHOOL', 'SPECIAL NEEDS EDUCATION',,'SPECIAL NEEDS EDUCATION SCHOOL' ,'SPECIALIZED SCHOOL'}\n",
    "|Specialization|School focus area| {ADULT BASIC EDUCATION AND TRAINING' 'AGRICULTURE' 'ARTS AND CULTURE''ARTS, DRAMA, MUSIC & BALLET' 'AUTISM' 'Art & Drama' 'Art School''Art and Museum Schools' 'Arts, drama,...}|\n",
    "|ExamNo| Examination number | |\n",
    "|Province| School in which province | EC,NW,MP,.....|\n",
    "|DistrictMunicipalityName| District municipality name| |\n",
    "|Local MunicipalityName| The local municiplaity | |\n",
    "|PostalAddress|"
   ]
  },
  {
   "cell_type": "markdown",
   "id": "5fec48f8",
   "metadata": {},
   "source": [
    "### Column Grouping\n",
    "The information can be grouped according to whether its about the school or its geographical location. Also observe the columns listed below may be processed to extract only certain information i.e postal code from postal address. Also note column mapping where applicable.\n",
    "- ### School Information\n",
    " - NatEmis:Id\n",
    " - Status\n",
    " - Sector\n",
    " - Type_PED : Type\n",
    " - Phase_PED : Phase\n",
    " - Specialization\n",
    " - ExamNo:Examination_No\n",
    " \n",
    "- School Location Informatiion\n",
    " - Province\n",
    " - DistrictMunicipalityName : District_Municipality\n",
    " - Local MuniciplalityName : Local_Municipality\n",
    " - PostalAddress : Postal Address"
   ]
  },
  {
   "cell_type": "code",
   "execution_count": 3,
   "id": "89f16d44",
   "metadata": {},
   "outputs": [],
   "source": [
    "info_cols_raw = ['NatEmis','Institution_Name','Status','Sector','Type_PED','Phase_PED','Specialization','ExamNo']\n",
    "info_cols_map = {'NatEmis':'Id','Institution_Name':'Name','Status':'Status','Sector':'Sector','Type_PED':'Type',\n",
    "                           'Phase_PED':'Phase','Specialization':'Specialization',\n",
    "                           'ExamNo':'ExamNo'}\n",
    "info_cols = list(info_cols_map.values())\n",
    "loc_cols_raw = ['Province','DistrictMunicipalityName','Local MunicipalityName','Suburb',\n",
    "                              'PostalAddress']\n",
    "loc_cols_map = {'Province':'Province','DistrictMunicipalityName' : 'District_Municipality',\n",
    "                      'Local MunicipalityName':'Local_Municipality','Suburb':'Suburb',\n",
    "                      'PostalAddress':'Postal_Code'}\n",
    "loc_cols = list(loc_cols_map.values())"
   ]
  },
  {
   "cell_type": "markdown",
   "id": "2f8fdc47",
   "metadata": {},
   "source": [
    "### Filter To Interest Columns, Rename & Merge"
   ]
  },
  {
   "cell_type": "code",
   "execution_count": 4,
   "id": "e152ed03",
   "metadata": {},
   "outputs": [],
   "source": [
    "def filter_merge(dfs):\n",
    "    columns = info_cols_raw + loc_cols_raw\n",
    "    new_dfs = []\n",
    "    for df in dfs:\n",
    "        new_dfs.append(df[columns])\n",
    "    \n",
    "    df =  pd.concat(new_dfs,ignore_index=True).copy()\n",
    "    c = {**info_cols_map,**loc_cols_map}\n",
    "    df.rename(columns = c,inplace=True)\n",
    "    df = df.drop_duplicates(subset='Id', keep='first')\n",
    "    return df"
   ]
  },
  {
   "cell_type": "markdown",
   "id": "ff19b0ce",
   "metadata": {},
   "source": [
    "### Cleaning \n",
    "- Info Colummns\n",
    " - Remove special characters and trim spaces then reduce to pascal case/title"
   ]
  },
  {
   "cell_type": "code",
   "execution_count": 5,
   "id": "fe9036e9",
   "metadata": {},
   "outputs": [],
   "source": [
    "def clean(df,cols):\n",
    "    def f(x):\n",
    "        y = re.sub(r\"[^a-zA-Z0-9]+\", ' ', str(x)).title()\n",
    "        return y.strip()\n",
    "    def g(x):\n",
    "        data = re.split(' |,',str(x))\n",
    "        if len(data)>0:\n",
    "            if data[-1].strip().isnumeric():\n",
    "                return data[-1].strip()\n",
    "            return ''\n",
    "        return ''\n",
    "    \n",
    "    df_c = df.copy().fillna('')\n",
    "    for c in cols:\n",
    "        if c!='Postal_Code':\n",
    "            df_c[c] = df_c[c].apply(f)\n",
    "        else:\n",
    "             df_c[c] = df_c[c].apply(g)\n",
    "    return df_c"
   ]
  },
  {
   "cell_type": "markdown",
   "id": "4a13fa81",
   "metadata": {},
   "source": [
    "### E2E"
   ]
  },
  {
   "cell_type": "code",
   "execution_count": 6,
   "id": "19eeb4b7",
   "metadata": {},
   "outputs": [],
   "source": [
    "def process_files(path):\n",
    "    dfs = load_data(path)\n",
    "    df = filter_merge(dfs)\n",
    "    df_c = clean(df,info_cols + loc_cols)\n",
    "    return df,df_c"
   ]
  },
  {
   "cell_type": "code",
   "execution_count": 7,
   "id": "bd314a2a",
   "metadata": {},
   "outputs": [],
   "source": [
    "df,df_c = process_files('data/input/*.xlsx')"
   ]
  },
  {
   "cell_type": "code",
   "execution_count": 8,
   "id": "c8f8c757",
   "metadata": {},
   "outputs": [],
   "source": [
    "df_c.to_csv(\"data/output/schools.csv\",index=False)"
   ]
  },
  {
   "cell_type": "markdown",
   "id": "b019196e",
   "metadata": {},
   "source": [
    "### Ready To Make A Database"
   ]
  }
 ],
 "metadata": {
  "kernelspec": {
   "display_name": "Python 3 (ipykernel)",
   "language": "python",
   "name": "python3"
  },
  "language_info": {
   "codemirror_mode": {
    "name": "ipython",
    "version": 3
   },
   "file_extension": ".py",
   "mimetype": "text/x-python",
   "name": "python",
   "nbconvert_exporter": "python",
   "pygments_lexer": "ipython3",
   "version": "3.8.10"
  }
 },
 "nbformat": 4,
 "nbformat_minor": 5
}
